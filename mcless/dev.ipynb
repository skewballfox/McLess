{
 "cells": [
  {
   "cell_type": "code",
   "execution_count": 1,
   "metadata": {},
   "outputs": [],
   "source": [
    "import numpy as np\n",
    "from numpy import float64,floating\n",
    "from numpy.typing import NDArray\n",
    "\n",
    "import seaborn as sbn\n",
    "import time\n",
    "from sklearn.model_selection import train_test_split\n",
    "from sklearn.datasets import load_iris\n",
    "from mcless.model import McLess"
   ]
  },
  {
   "cell_type": "code",
   "execution_count": 2,
   "metadata": {},
   "outputs": [
    {
     "name": "stdout",
     "output_type": "stream",
     "text": [
      "X shape: (150, 4), Y shape (150,)\n"
     ]
    }
   ],
   "source": [
    "\n",
    "#data_frame=pl.DataFrame(load_iris(as_frame=True))\n",
    "data_read=load_iris()\n",
    "X=data_read.data\n",
    "Y=data_read.target\n",
    "data_file= data_read.filename\n",
    "targets= data_read.target_names\n",
    "features = data_read.feature_names\n",
    "print(f\"X shape: {X.shape}, Y shape {Y.shape}\")"
   ]
  },
  {
   "cell_type": "markdown",
   "metadata": {},
   "source": [
    "# Settings"
   ]
  },
  {
   "cell_type": "code",
   "execution_count": 3,
   "metadata": {},
   "outputs": [],
   "source": [
    "N,d= X.shape\n",
    "labelset=set(Y)\n",
    "number_of_classifications = len(labelset)\n",
    "# number of iterations \n",
    "run_count=100\n",
    "training_data_percent= 0.7e0\n",
    "test_data_percent=1-training_data_percent"
   ]
  },
  {
   "cell_type": "code",
   "execution_count": 4,
   "metadata": {},
   "outputs": [],
   "source": [
    "# split_time_arr=np.zeros(5)\n",
    "# split_time_start=split_time_stop=time.time()\n",
    "# for i in range(5):\n",
    "#     split_time_start=time.time()\n",
    "#     split_time_start=time.time()\n",
    "#     split_time_arr"
   ]
  },
  {
   "cell_type": "code",
   "execution_count": 5,
   "metadata": {},
   "outputs": [
    {
     "ename": "TypeError",
     "evalue": "McLess.__init__() missing 1 required positional argument: 'number_of_labels'",
     "output_type": "error",
     "traceback": [
      "\u001b[0;31m---------------------------------------------------------------------------\u001b[0m",
      "\u001b[0;31mTypeError\u001b[0m                                 Traceback (most recent call last)",
      "Cell \u001b[0;32mIn [5], line 4\u001b[0m\n\u001b[1;32m      2\u001b[0m \u001b[39mfrom\u001b[39;00m \u001b[39msklearn\u001b[39;00m\u001b[39m.\u001b[39;00m\u001b[39mneighbors\u001b[39;00m \u001b[39mimport\u001b[39;00m KNeighborsClassifier\n\u001b[1;32m      3\u001b[0m \u001b[39m#classifier=KNeighborsClassifier(number_of_classifications)\u001b[39;00m\n\u001b[0;32m----> 4\u001b[0m classifier\u001b[39m=\u001b[39mMcLess()\n\u001b[1;32m      5\u001b[0m time_total_start\u001b[39m=\u001b[39mtime\u001b[39m.\u001b[39mtime()\n\u001b[1;32m      7\u001b[0m time_train_start\u001b[39m=\u001b[39mtime_train\u001b[39m=\u001b[39mavg_train_time\u001b[39m=\u001b[39mtime\u001b[39m.\u001b[39mtime()\n",
      "\u001b[0;31mTypeError\u001b[0m: McLess.__init__() missing 1 required positional argument: 'number_of_labels'"
     ]
    }
   ],
   "source": [
    "Accuracy: NDArray[float64]=np.zeros(run_count)\n",
    "from sklearn.neighbors import KNeighborsClassifier\n",
    "#classifier=KNeighborsClassifier(number_of_classifications)\n",
    "classifier=McLess(number_of_classifications)\n",
    "time_total_start=time.time()\n",
    "\n",
    "time_train_start=time_train=avg_train_time=time.time()\n",
    "for i in range(run_count):\n",
    "    Xtrain,Xtest,Ytrain,Ytest=train_test_split(X,Y,test_size=test_data_percent, random_state=i,stratify=Y)\n",
    "    \n",
    "    time_train_start=time.time()\n",
    "    classifier.fit(Xtrain,Ytrain)\n",
    "    time_train=time.time()-time_train_start\n",
    "    #update average training time and accuracy\n",
    "    avg_train_time=(avg_train_time+time_train)/2\n",
    "    Accuracy[i]=classifier.score(Xtest,Ytest)\n",
    "\n",
    "time_total=time.time()-time_total_start"
   ]
  },
  {
   "cell_type": "markdown",
   "metadata": {},
   "source": [
    "# Display Stats"
   ]
  },
  {
   "cell_type": "code",
   "execution_count": null,
   "metadata": {},
   "outputs": [
    {
     "name": "stdout",
     "output_type": "stream",
     "text": [
      "For dataset: iris.csv\n",
      "Average Accuracy 0.9630434782608697, standard deviation 0.02227597992599912, Average training time 0.00020061830038260706\n",
      "time total averaged 0.0019280862808227538\n"
     ]
    }
   ],
   "source": [
    "print(f\"For dataset: {data_file}\")\n",
    "print(f\"Average Accuracy {Accuracy.mean()}, standard deviation {Accuracy.std()}, Average training time {avg_train_time}\")\n",
    "print(f\"time total averaged {time_total/run_count}\")"
   ]
  }
 ],
 "metadata": {
  "kernelspec": {
   "display_name": "Python 3.10.8 ('mcless-99vRfS3r-py3.10')",
   "language": "python",
   "name": "python3"
  },
  "language_info": {
   "codemirror_mode": {
    "name": "ipython",
    "version": 3
   },
   "file_extension": ".py",
   "mimetype": "text/x-python",
   "name": "python",
   "nbconvert_exporter": "python",
   "pygments_lexer": "ipython3",
   "version": "3.10.8"
  },
  "orig_nbformat": 4,
  "vscode": {
   "interpreter": {
    "hash": "6135509e2758909c767910d4006e8397650d1d00bda10a831319ccabddd8e9a4"
   }
  }
 },
 "nbformat": 4,
 "nbformat_minor": 2
}
