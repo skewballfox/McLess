{
 "cells": [
  {
   "cell_type": "code",
   "execution_count": 8,
   "metadata": {},
   "outputs": [],
   "source": [
    "import numpy as np\n",
    "from numpy import float64,floating\n",
    "from numpy.typing import NDArray\n",
    "import polars as pl\n",
    "import seaborn as sbn\n",
    "import time\n",
    "from sklearn.model_selection import train_test_split\n",
    "from sklearn.datasets import load_iris"
   ]
  },
  {
   "cell_type": "code",
   "execution_count": 6,
   "metadata": {},
   "outputs": [
    {
     "name": "stdout",
     "output_type": "stream",
     "text": [
      "X shape: (150, 4), Y shape (150,)\n"
     ]
    }
   ],
   "source": [
    "\n",
    "#data_frame=pl.DataFrame(load_iris(as_frame=True))\n",
    "data_read=load_iris()\n",
    "X=data_read.data\n",
    "Y=data_read.target\n",
    "data_file= data_read.filename\n",
    "targets= data_read.target_names\n",
    "features = data_read.feature_names\n",
    "print(f\"X shape: {X.shape}, Y shape {Y.shape}\")"
   ]
  },
  {
   "cell_type": "markdown",
   "metadata": {},
   "source": [
    "# Settings"
   ]
  },
  {
   "cell_type": "code",
   "execution_count": 10,
   "metadata": {},
   "outputs": [],
   "source": [
    "N,d= X.shape\n",
    "labelset=set(Y)\n",
    "number_of_classifications = len(labelset)\n",
    "# number of iterations \n",
    "run_count=100\n",
    "training_data_percent= 0.7e0\n",
    "test_data_percent=1-training_data_percent"
   ]
  },
  {
   "cell_type": "code",
   "execution_count": null,
   "metadata": {},
   "outputs": [],
   "source": [
    "split_time_arr=np.zeros(5)\n",
    "split_time_start=split_time_stop=time.time()\n",
    "for i in range(5):\n",
    "    split_time_start=time.time()\n",
    "    _,_,_,_ = \n",
    "    split_time_start=time.time()\n",
    "    split_time_arr"
   ]
  },
  {
   "cell_type": "code",
   "execution_count": 15,
   "metadata": {},
   "outputs": [],
   "source": [
    "Accuracy: NDArray[float64]=np.zeros(run_count)\n",
    "from sklearn.neighbors import KNeighborsClassifier\n",
    "classifier=KNeighborsClassifier(number_of_classifications)\n",
    "\n",
    "time_total_start=time.time()\n",
    "\n",
    "time_train_start=time_train=avg_train_time=time.time()\n",
    "for i in range(run_count):\n",
    "    Xtrain,Xtest,Ytrain,Ytest=train_test_split(X,Y,test_size=test_data_percent, random_state=i,stratify=Y)\n",
    "    \n",
    "    time_train_start=time.time()\n",
    "    classifier.fit(Xtrain,Ytrain)\n",
    "    time_train=time.time()-time_train_start\n",
    "    #update average training time and accuracy\n",
    "    avg_train_time=(avg_train_time+time_train)/2\n",
    "    Accuracy[i]=classifier.score(Xtest,Ytest)\n",
    "\n",
    "time_total=time.time()-time_total_start"
   ]
  },
  {
   "cell_type": "markdown",
   "metadata": {},
   "source": [
    "# Display Stats"
   ]
  },
  {
   "cell_type": "code",
   "execution_count": 16,
   "metadata": {},
   "outputs": [
    {
     "name": "stdout",
     "output_type": "stream",
     "text": [
      "For dataset: iris.csv\n",
      "Average Accuracy 0.9630434782608697, standard deviation 0.02227597992599912, Average training time 0.00020061830038260706\n",
      "time total averaged 0.0019280862808227538\n"
     ]
    }
   ],
   "source": [
    "print(f\"For dataset: {data_file}\")\n",
    "print(f\"Average Accuracy {Accuracy.mean()}, standard deviation {Accuracy.std()}, Average training time {avg_train_time}\")\n",
    "print(f\"time total averaged {time_total/run_count}\")"
   ]
  }
 ],
 "metadata": {
  "kernelspec": {
   "display_name": "Python 3.10.8 ('mcless-B2ek797Q-py3.10')",
   "language": "python",
   "name": "python3"
  },
  "language_info": {
   "codemirror_mode": {
    "name": "ipython",
    "version": 3
   },
   "file_extension": ".py",
   "mimetype": "text/x-python",
   "name": "python",
   "nbconvert_exporter": "python",
   "pygments_lexer": "ipython3",
   "version": "3.10.8"
  },
  "orig_nbformat": 4,
  "vscode": {
   "interpreter": {
    "hash": "b32180ed0499d75d05727cc199d862b87517d45f14479b113c5cfc89fe25c2c7"
   }
  }
 },
 "nbformat": 4,
 "nbformat_minor": 2
}
